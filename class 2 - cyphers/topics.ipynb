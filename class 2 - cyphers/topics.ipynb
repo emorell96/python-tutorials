{
 "cells": [
  {
   "cell_type": "markdown",
   "metadata": {},
   "source": [
    "# Topics\n",
    "\n",
    "- Functions\n",
    "- Lamba functions\n",
    "- if else statements\n",
    "- for loops\n",
    "\n",
    "# Functions\n",
    "\n",
    "Functions are ways of encapsulating code and reusing it without copy pasting it.\n",
    "\n",
    "They allow you to run specific set of instructions (lines of code) on arguments which are passed to the function.\n",
    "\n",
    "The function can (optional) then return a result back to the caller of the function.\n",
    "\n",
    "To define a function we use the `def` keyword in Python:\n",
    "\n",
    "```python\n",
    "def sum_function(a, b):\n",
    "    return a + b\n",
    "```\n",
    "\n",
    "This function will sum two arguments called `a` and `b` and return the result back.\n",
    "\n",
    "To call a function you just have to use its name and pass whatever arguments it takes.\n",
    "\n",
    "For example:\n",
    "\n",
    "```python\n",
    "print(sum_function(5, 2))\n",
    "```\n",
    "\n",
    "This will call the function previously defined, add 5 to 2 and print 7.\n",
    "\n",
    "Note that python is not hard typed. Meaning that even if your function makes sense mainly for numeric types like `int`, `float` or `complex`, the caller can call it with other types and the result might be an error or an unexpected result.\n",
    "\n",
    "For example:\n",
    "\n",
    "```python\n",
    "print(sum_function(\"my \", \"name\"))\n",
    "```\n",
    "\n",
    "would print \"my name\" and wouldn't give an error. Because that's how `+` works on strings. It joins them together.\n",
    "\n",
    "In later assignements we will cover things like `*args`, `**kwargs` which allow for an indefinite ammount of arguments in a function. This is a more advance usage of functions which I don't want to cover at this point to avoid confusing the reader.\n",
    "\n",
    "# Lambdas\n",
    "\n",
    "Lambda functions are ways to create small functions in a shorter form than `def`. They are usually used either to create a function that has less arguments than an already defined function (by setting some of its arguments to a constant value), or to define very simple functions:\n",
    "\n",
    "```python\n",
    "# for example our sum_function would be expressed like this as a lambda function:\n",
    "sum_function = lambda a, b: a + b\n",
    "print(sum_function(5, 2)) # would print 7\n",
    "```\n",
    "\n",
    "The lambda functions always return expression result after the `:`\n",
    "\n",
    "Another example of a lambda function to reduce the number of arguments could be the following:\n",
    "\n",
    "```python\n",
    "def multiply(x, y):\n",
    "    return x*y #this multiplies x with y\n",
    "```\n",
    "\n",
    "But if I want to just double a number with another function I could do this:\n",
    "\n",
    "```python\n",
    "double = lambda x: multiply(x, 2) # this lambda function double will double every argument x\n",
    "print(double(2)) # this would print 4.\n",
    "```\n",
    "\n",
    "# If - Else statements\n",
    "\n",
    "If else statements allow you to run custom logic based on values of a condition (true or false).\n",
    "\n",
    "The simplest you can have is this:\n",
    "\n",
    "```python\n",
    "x = 2\n",
    "if x > 5:\n",
    "    print(\"x is greater than 5\")\n",
    "\n",
    "if x < 5:\n",
    "    print(\"x is smaller than 5\")\n",
    "```\n",
    "The first print statement will NOT be executed since `x > 5` is false (x is 2).\n",
    "The second print statement will be executed since x is less than 5.\n",
    "\n",
    "What if you wanted to check multiple conditions?\n",
    "\n",
    "Then you can use `elif`:\n",
    "\n",
    "```python\n",
    "x = 1\n",
    "if x > 5:\n",
    "    print(\"x is greater than 5\")\n",
    "elif x < 2: # is executed ONLY if the FIRST condition is false.\n",
    "    print(\"x is smaller than 2\")\n",
    "```\n",
    "If you want to do something if none of the conditions are true then you can use `else`:\n",
    "\n",
    "```python\n",
    "x = 3\n",
    "if x > 5:\n",
    "    print(\"x is greater than 5\") # wont print this\n",
    "elif x < 2: # is executed ONLY if the FIRST condition is false.\n",
    "    print(\"x is smaller than 2\") # wont print this\n",
    "else:\n",
    "    print(\"x is between 2 and 5!\") # this will be executed since neither of the conditions are met (none are true)\n",
    "```"
   ]
  },
  {
   "cell_type": "markdown",
   "metadata": {},
   "source": [
    "## Type hints\n",
    "\n",
    "Python is not a hard typed language as c++ or c is. That means that objects and variables can have many types (float, int, etc..) associated to them. But sometimes functions make more sense for some types than others.\n",
    "\n",
    "For example if you are coding a multiplication function, it wouldn't make much sense to multiply strings or lists between each other. Even if sometimes you can do some things like multiply lists with integers, it's not what you'd expect while you code it.\n",
    "\n",
    "For this reason Python includes the option to provide hints to the user about what type each argument of a function is. To create a hint we use the `:` as below:\n",
    "\n",
    "```python\n",
    "def multiply(a : float, b: float):\n",
    "    return a*b\n",
    "def split_words(sentence : str):\n",
    "    return sentence.split(\" \")\n",
    "```\n",
    "\n",
    "These two functions use type hints to indicate that we expect the arguments to be of a given type.\n",
    "\n",
    "`a` and `b` of type `float` and `sentence` of type `str`.\n",
    "\n"
   ]
  },
  {
   "cell_type": "markdown",
   "metadata": {},
   "source": [
    "There's a reason these are hints and not any kind of hard types. We can still decide to not follow the hint. But then the function might not work (if we give it a type it doesn't know how to use) or it might give you a result which might be unexpected."
   ]
  },
  {
   "cell_type": "code",
   "execution_count": 5,
   "metadata": {},
   "outputs": [
    {
     "name": "stdout",
     "output_type": "stream",
     "text": [
      "8\n",
      "my textmy text\n"
     ]
    },
    {
     "ename": "AttributeError",
     "evalue": "'list' object has no attribute 'split'",
     "output_type": "error",
     "traceback": [
      "\u001b[1;31m---------------------------------------------------------------------------\u001b[0m",
      "\u001b[1;31mAttributeError\u001b[0m                            Traceback (most recent call last)",
      "\u001b[1;32m~\\AppData\\Local\\Temp/ipykernel_18928/3912173053.py\u001b[0m in \u001b[0;36m<module>\u001b[1;34m\u001b[0m\n\u001b[0;32m      6\u001b[0m \u001b[0mprint\u001b[0m\u001b[1;33m(\u001b[0m\u001b[0mmultiply\u001b[0m\u001b[1;33m(\u001b[0m\u001b[1;36m2\u001b[0m\u001b[1;33m,\u001b[0m \u001b[1;36m4\u001b[0m\u001b[1;33m)\u001b[0m\u001b[1;33m)\u001b[0m \u001b[1;31m#still works even if 2 and 4 are of type int and not float\u001b[0m\u001b[1;33m\u001b[0m\u001b[1;33m\u001b[0m\u001b[0m\n\u001b[0;32m      7\u001b[0m \u001b[0mprint\u001b[0m\u001b[1;33m(\u001b[0m\u001b[0mmultiply\u001b[0m\u001b[1;33m(\u001b[0m\u001b[1;34m\"my text\"\u001b[0m\u001b[1;33m,\u001b[0m \u001b[1;36m2\u001b[0m\u001b[1;33m)\u001b[0m\u001b[1;33m)\u001b[0m \u001b[1;31m# still works but you might have not expected that output.\u001b[0m\u001b[1;33m\u001b[0m\u001b[1;33m\u001b[0m\u001b[0m\n\u001b[1;32m----> 8\u001b[1;33m \u001b[0mprint\u001b[0m\u001b[1;33m(\u001b[0m\u001b[0msplit_words\u001b[0m\u001b[1;33m(\u001b[0m\u001b[1;33m[\u001b[0m\u001b[1;36m5\u001b[0m\u001b[1;33m,\u001b[0m \u001b[1;36m2\u001b[0m\u001b[1;33m,\u001b[0m \u001b[1;36m5\u001b[0m\u001b[1;33m]\u001b[0m\u001b[1;33m)\u001b[0m\u001b[1;33m)\u001b[0m \u001b[1;31m# this one lets you run it, but fails because it cannot split a list!\u001b[0m\u001b[1;33m\u001b[0m\u001b[1;33m\u001b[0m\u001b[0m\n\u001b[0m",
      "\u001b[1;32m~\\AppData\\Local\\Temp/ipykernel_18928/3912173053.py\u001b[0m in \u001b[0;36msplit_words\u001b[1;34m(sentence)\u001b[0m\n\u001b[0;32m      2\u001b[0m     \u001b[1;32mreturn\u001b[0m \u001b[0ma\u001b[0m\u001b[1;33m*\u001b[0m\u001b[0mb\u001b[0m\u001b[1;33m\u001b[0m\u001b[1;33m\u001b[0m\u001b[0m\n\u001b[0;32m      3\u001b[0m \u001b[1;32mdef\u001b[0m \u001b[0msplit_words\u001b[0m\u001b[1;33m(\u001b[0m\u001b[0msentence\u001b[0m \u001b[1;33m:\u001b[0m \u001b[0mstr\u001b[0m\u001b[1;33m)\u001b[0m\u001b[1;33m:\u001b[0m\u001b[1;33m\u001b[0m\u001b[1;33m\u001b[0m\u001b[0m\n\u001b[1;32m----> 4\u001b[1;33m     \u001b[1;32mreturn\u001b[0m \u001b[0msentence\u001b[0m\u001b[1;33m.\u001b[0m\u001b[0msplit\u001b[0m\u001b[1;33m(\u001b[0m\u001b[1;34m\" \"\u001b[0m\u001b[1;33m)\u001b[0m\u001b[1;33m\u001b[0m\u001b[1;33m\u001b[0m\u001b[0m\n\u001b[0m\u001b[0;32m      5\u001b[0m \u001b[1;33m\u001b[0m\u001b[0m\n\u001b[0;32m      6\u001b[0m \u001b[0mprint\u001b[0m\u001b[1;33m(\u001b[0m\u001b[0mmultiply\u001b[0m\u001b[1;33m(\u001b[0m\u001b[1;36m2\u001b[0m\u001b[1;33m,\u001b[0m \u001b[1;36m4\u001b[0m\u001b[1;33m)\u001b[0m\u001b[1;33m)\u001b[0m \u001b[1;31m#still works even if 2 and 4 are of type int and not float\u001b[0m\u001b[1;33m\u001b[0m\u001b[1;33m\u001b[0m\u001b[0m\n",
      "\u001b[1;31mAttributeError\u001b[0m: 'list' object has no attribute 'split'"
     ]
    }
   ],
   "source": [
    "def multiply(a : float, b: float):\n",
    "    return a*b\n",
    "def split_words(sentence : str):\n",
    "    return sentence.split(\" \")\n",
    "\n",
    "print(multiply(2, 4)) #still works even if 2 and 4 are of type int and not float\n",
    "print(multiply(\"my text\", 2)) # still works but you might have not expected that output.\n",
    "print(split_words([5, 2, 5])) # this one lets you run it, but fails because it cannot split a list!"
   ]
  },
  {
   "cell_type": "markdown",
   "metadata": {},
   "source": [
    "### Return type\n",
    "\n",
    "You can also specify what type you expect to return from functions. For this we use a small arrow: `->`"
   ]
  },
  {
   "cell_type": "code",
   "execution_count": 9,
   "metadata": {},
   "outputs": [
    {
     "data": {
      "text/plain": [
       "'my'"
      ]
     },
     "execution_count": 9,
     "metadata": {},
     "output_type": "execute_result"
    }
   ],
   "source": [
    "def first_two_letters(sentence : str) -> str: # the return is a str\n",
    "    return sentence[:2] # returns the first two letters of sentence.\n",
    "first_two_letters(\"my phone is silver\")"
   ]
  },
  {
   "cell_type": "markdown",
   "metadata": {},
   "source": [
    "What if the return is expected to be a list of a objects which we know their type? For example the `split_words` function we had previously will split the sentence and provide a list with only strings inside. We could hint that to the user of our function so that they know what to expect!\n",
    "\n",
    "To do this we use the module `typing`.\n",
    "\n",
    "We must first import the module by using:\n",
    "```python\n",
    "import typing\n",
    "```\n",
    "After that we can use:\n",
    "\n",
    "```python\n",
    "typing.List[str]\n",
    "```\n",
    "\n",
    "to indicate that it's a list with strings inside. (see below).\n",
    "\n",
    "or we could use\n",
    "\n",
    "```python\n",
    "typing.List[str]\n",
    "```\n",
    "\n",
    "As of **Python 3.9** (and above), we can use list directly without importing `typing`.\n",
    "\n",
    "I.e. we can do:\n",
    "\n",
    "```python\n",
    "def split_words(sentence : str) -> list[str]:\n",
    "    return sentence.split(\" \")\n",
    "```"
   ]
  },
  {
   "cell_type": "code",
   "execution_count": 10,
   "metadata": {},
   "outputs": [],
   "source": [
    "import typing\n",
    "def split_words(sentence : str) -> typing.List[str]: # this means that the function is expected to return a list of str.\n",
    "    return sentence.split(\" \")"
   ]
  },
  {
   "cell_type": "markdown",
   "metadata": {},
   "source": [
    "If you want to know if you are using python 3.9 or above, you can use the following code:"
   ]
  },
  {
   "cell_type": "code",
   "execution_count": 11,
   "metadata": {},
   "outputs": [
    {
     "data": {
      "text/plain": [
       "'3.9.7 (default, Sep 16 2021, 16:59:28) [MSC v.1916 64 bit (AMD64)]'"
      ]
     },
     "execution_count": 11,
     "metadata": {},
     "output_type": "execute_result"
    }
   ],
   "source": [
    "import sys\n",
    "sys.version"
   ]
  },
  {
   "cell_type": "markdown",
   "metadata": {},
   "source": [
    "As you can see I am using Python 3.9.7 so I can avoid importing `typing` and use list directly:"
   ]
  },
  {
   "cell_type": "code",
   "execution_count": null,
   "metadata": {},
   "outputs": [],
   "source": [
    "def get_letters_without_spaces(text : str) -> list[str]:\n",
    "    result = []\n",
    "    for letter in text:\n",
    "        if not letter.isspace():\n",
    "            result.append(letter)\n",
    "    return result"
   ]
  },
  {
   "cell_type": "markdown",
   "metadata": {},
   "source": [
    "# For loops\n",
    "\n",
    "Another way of looping in Python is called a for loop. It allows to loop over a finite set of elements or times unlike the while loop which can run forever if you are not careful. As a rule of thumb, if you can use a for loop you should use a for loop. For example to go over the elements of a list you can use a while loop or a for loop but a while loop would be riskier since a small error on your part would mean your program might never finish."
   ]
  }
 ],
 "metadata": {
  "kernelspec": {
   "display_name": "Python 3.9.7 ('base')",
   "language": "python",
   "name": "python3"
  },
  "language_info": {
   "codemirror_mode": {
    "name": "ipython",
    "version": 3
   },
   "file_extension": ".py",
   "mimetype": "text/x-python",
   "name": "python",
   "nbconvert_exporter": "python",
   "pygments_lexer": "ipython3",
   "version": "3.9.7"
  },
  "orig_nbformat": 4,
  "vscode": {
   "interpreter": {
    "hash": "cf6e3b3694dfcf56de8c82cd7c6d10831c337fb802e3ac6d608eeefba37edc98"
   }
  }
 },
 "nbformat": 4,
 "nbformat_minor": 2
}
