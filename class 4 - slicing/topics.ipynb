{
 "cells": [
  {
   "attachments": {},
   "cell_type": "markdown",
   "metadata": {},
   "source": [
    "# Slicing\n",
    "\n",
    "This notebook will go over the idea of slicing in Python.\n",
    "\n",
    "Slicing a quick way of getting a part or slice of an array or a string in Python.\n",
    "\n",
    "I will use stars to note how difficult some parts can be:\n",
    "\n",
    "1 star = easy\n",
    "\n",
    "2 stars = medium\n",
    "\n",
    "3 stars = hard\n",
    "\n"
   ]
  },
  {
   "attachments": {},
   "cell_type": "markdown",
   "metadata": {},
   "source": [
    "### Simple examples\n",
    "\n",
    "Say you have an array with 5 elements but you only want the 2nd to 4th element in this array. We can use slicing for this."
   ]
  },
  {
   "cell_type": "code",
   "execution_count": 2,
   "metadata": {},
   "outputs": [
    {
     "name": "stdout",
     "output_type": "stream",
     "text": [
      "[6, 8, 10]\n"
     ]
    }
   ],
   "source": [
    "example = [2, 6, 8, 10, 15]\n",
    "\n",
    "sliced_example = example[1:4] # the first element is before the ':' and it's always included in the slice. The final element is after the ':'\n",
    "\n",
    "# the final element is never included in the slice. Remember that in python lists are indexed from 0 and NOT 1. So the first element has index 0,\n",
    "# the second index 1, etc...\n",
    "\n",
    "# so [1:4] means from the second element (1) to the fifth (4) excluding the fifth.\n",
    "\n",
    "print(sliced_example)"
   ]
  },
  {
   "attachments": {},
   "cell_type": "markdown",
   "metadata": {},
   "source": [
    "You can also slice strings. In exactly the same manner."
   ]
  },
  {
   "cell_type": "code",
   "execution_count": 4,
   "metadata": {},
   "outputs": [
    {
     "name": "stdout",
     "output_type": "stream",
     "text": [
      "like\n"
     ]
    }
   ],
   "source": [
    "sentence = \"I like to zip line accross canals.\"\n",
    "\n",
    "print(sentence[2:6]) # I can get the word 'like' out of my sentence."
   ]
  },
  {
   "cell_type": "code",
   "execution_count": 5,
   "metadata": {},
   "outputs": [
    {
     "name": "stdout",
     "output_type": "stream",
     "text": [
      "like to zip line accross canals.\n",
      "like\n"
     ]
    }
   ],
   "source": [
    "# you can also slice multiple times:\n",
    "print(sentence[2:]) # this will slice from the third element. until the end.\n",
    "\n",
    "# so if I want to get the word 'like' of 4 characters I can do:\n",
    "print(sentence[2:][:4]) \n",
    "# where I have first gone from \"I like to zip line accross canals.\" to \"like to zip line accross canals.\" and \n",
    "# finally extracted the first 4 letters.\n",
    "# (remember that :4 means up to the 5th element excluding the fifth, i.e. the first 4 elements of the string.)\n",
    "# doing it this way can sometimes be easier than counting where the word is."
   ]
  },
  {
   "cell_type": "code",
   "execution_count": 7,
   "metadata": {},
   "outputs": [
    {
     "name": "stdout",
     "output_type": "stream",
     "text": [
      "[1, 2]\n"
     ]
    }
   ],
   "source": [
    "# you can also slice from the begining of the list until a given n_th element - 1 by using:\n",
    "# l[:n] (the n_th element is not reached - counting from 0!)\n",
    "example = [1, 2, 4, 10, 11]\n",
    "print(example[:2])"
   ]
  },
  {
   "cell_type": "code",
   "execution_count": 8,
   "metadata": {},
   "outputs": [
    {
     "name": "stdout",
     "output_type": "stream",
     "text": [
      "[4, 10, 11]\n"
     ]
    }
   ],
   "source": [
    "# You can slice from a given nth element (this element is included)\n",
    "# (counting from 0) until the end of the list using:\n",
    "# l[n:] see:\n",
    "example = [1, 2, 4, 10, 11]\n",
    "print(example[2:])"
   ]
  },
  {
   "cell_type": "code",
   "execution_count": 9,
   "metadata": {},
   "outputs": [
    {
     "name": "stdout",
     "output_type": "stream",
     "text": [
      "My\n",
      " name is Weronika\n"
     ]
    }
   ],
   "source": [
    "# same methods apply to strings:\n",
    "text = \"My name is Weronika\"\n",
    "print(text[:2])\n",
    "print(text[2:]) # notice the space at the begining of the string."
   ]
  },
  {
   "cell_type": "markdown",
   "metadata": {},
   "source": [
    "# String manipulations"
   ]
  },
  {
   "cell_type": "markdown",
   "metadata": {},
   "source": [
    "We will introduce some methods used to modify strings. These tend to be used in conjunction with the slicing operators."
   ]
  },
  {
   "cell_type": "markdown",
   "metadata": {},
   "source": [
    "### Lower case to upper case"
   ]
  },
  {
   "cell_type": "markdown",
   "metadata": {},
   "source": [
    "To make text upper case use `upper()`"
   ]
  },
  {
   "cell_type": "code",
   "execution_count": 10,
   "metadata": {},
   "outputs": [
    {
     "name": "stdout",
     "output_type": "stream",
     "text": [
      "I AM A FULLY LOWER CASE TEXT\n"
     ]
    }
   ],
   "source": [
    "text = \"i am a fully lower case text\"\n",
    "\n",
    "print(text.upper())"
   ]
  },
  {
   "cell_type": "markdown",
   "metadata": {},
   "source": [
    "### Make text lower case"
   ]
  },
  {
   "cell_type": "markdown",
   "metadata": {},
   "source": [
    "For this use `lower()`"
   ]
  },
  {
   "cell_type": "code",
   "execution_count": 11,
   "metadata": {},
   "outputs": [
    {
     "name": "stdout",
     "output_type": "stream",
     "text": [
      "i am a text with a mix of lower and upper case\n"
     ]
    }
   ],
   "source": [
    "text = \"I am A TEXT WITH a mix OF LOWER and Upper Case\"\n",
    "\n",
    "print(text.lower())"
   ]
  },
  {
   "cell_type": "markdown",
   "metadata": {},
   "source": [
    "### Split text by a separator like spaces:"
   ]
  },
  {
   "cell_type": "markdown",
   "metadata": {},
   "source": [
    "Use `.split(separator)` where `separator` is the string used to split the string."
   ]
  },
  {
   "cell_type": "code",
   "execution_count": 12,
   "metadata": {},
   "outputs": [
    {
     "name": "stdout",
     "output_type": "stream",
     "text": [
      "[\"let's\", 'split', 'this', 'text', 'into', 'its', 'individual', 'words']\n"
     ]
    }
   ],
   "source": [
    "text = \"let's split this text into its individual words\"\n",
    "print(text.split(\" \")) # list with the individual words without the spaces!"
   ]
  },
  {
   "cell_type": "markdown",
   "metadata": {},
   "source": [
    "The `split` function can be used with any separator:"
   ]
  },
  {
   "cell_type": "code",
   "execution_count": 13,
   "metadata": {},
   "outputs": [
    {
     "name": "stdout",
     "output_type": "stream",
     "text": [
      "['This sentence', ' the next sentence', ' the third sentence', ' uses many commas.']\n"
     ]
    }
   ],
   "source": [
    "# we can use it to split by commas (,):\n",
    "\n",
    "text = \"This sentence, the next sentence, the third sentence, uses many commas.\"\n",
    "print(text.split(\",\"))"
   ]
  },
  {
   "cell_type": "markdown",
   "metadata": {},
   "source": [
    "### Remove spaces or any character from the begining and end of a string"
   ]
  },
  {
   "cell_type": "markdown",
   "metadata": {},
   "source": [
    "You can remove spaces or any other character by using `.strip('chars to remove')` (see https://docs.python.org/3/library/stdtypes.html#str.strip)\n",
    "\n",
    "This will remove all the characters on both the begining and end of the string. To remove on one side only see `lstrip` (https://docs.python.org/3/library/stdtypes.html#str.lstrip) and `rstrip` (https://docs.python.org/3/library/stdtypes.html#str.rstrip)"
   ]
  },
  {
   "cell_type": "code",
   "execution_count": 16,
   "metadata": {},
   "outputs": [
    {
     "data": {
      "text/plain": [
       "'a text with many spaces, new lines (\\n), and tabs (\\t) on both sides'"
      ]
     },
     "execution_count": 16,
     "metadata": {},
     "output_type": "execute_result"
    }
   ],
   "source": [
    "text_with_spaces = \"  \\n\\n  \\t   a text with many spaces, new lines (\\n), and tabs (\\t) on both sides    \\n\\n\\t   \"\n",
    "text_with_spaces.strip(' \\n\\t')"
   ]
  },
  {
   "cell_type": "code",
   "execution_count": 17,
   "metadata": {},
   "outputs": [
    {
     "data": {
      "text/plain": [
       "'\\n\\n  \\t   a text with many spaces, new lines (\\n), and tabs (\\t) on both sides    \\n\\n\\t'"
      ]
     },
     "execution_count": 17,
     "metadata": {},
     "output_type": "execute_result"
    }
   ],
   "source": [
    "text_with_spaces.strip(' ')"
   ]
  },
  {
   "cell_type": "code",
   "execution_count": 18,
   "metadata": {},
   "outputs": [
    {
     "data": {
      "text/plain": [
       "'\\t   a text with many spaces, new lines (\\n), and tabs (\\t) on both sides    \\n\\n\\t'"
      ]
     },
     "execution_count": 18,
     "metadata": {},
     "output_type": "execute_result"
    }
   ],
   "source": [
    "text_with_spaces.strip(' \\n')"
   ]
  },
  {
   "cell_type": "markdown",
   "metadata": {},
   "source": [
    "### other manipulations"
   ]
  },
  {
   "cell_type": "markdown",
   "metadata": {},
   "source": [
    "There's many more operations that can be done on strings. You can see a complete list at: https://docs.python.org/3/library/stdtypes.html#string-methods"
   ]
  },
  {
   "cell_type": "markdown",
   "metadata": {},
   "source": [
    "## Exercises on strings"
   ]
  },
  {
   "cell_type": "markdown",
   "metadata": {},
   "source": [
    "We are going to do a few problems on strings:\n",
    "\n",
    "### P1 (*):\n",
    "\n",
    "Create a function which will make the text of half the string upper case and the other half lower case.\n",
    "\n",
    "e.g. \"my string!\" will be \"MY STring!\""
   ]
  },
  {
   "cell_type": "code",
   "execution_count": 19,
   "metadata": {},
   "outputs": [],
   "source": [
    "## solve it here\n"
   ]
  },
  {
   "cell_type": "markdown",
   "metadata": {},
   "source": [
    "### P2 (*):\n",
    "\n",
    "Create a function called `mock` which will iterate through the string using a for loop (remember you can loop through each letter in a string using the `in` keyword), and randomly make the letter upper or lower case, and returns the final string where each letter is randomly either lowe or upper case.\n",
    "\n",
    "For example, when using \"my string\" as input, it could output something like \"MY sTRiNg\" randomly."
   ]
  },
  {
   "cell_type": "code",
   "execution_count": 21,
   "metadata": {},
   "outputs": [],
   "source": [
    "## solve it here\n",
    "def mock(text):\n",
    "    pass"
   ]
  },
  {
   "cell_type": "markdown",
   "metadata": {},
   "source": [
    "### P3 (*):\n",
    "\n",
    "Create a function which will take a sentence with spaces, and will capitalize the first letter of each word.\n",
    "\n",
    "Create a second function which will act the same way except that it will capitalize the first 2 letters of each word."
   ]
  },
  {
   "cell_type": "code",
   "execution_count": 22,
   "metadata": {},
   "outputs": [],
   "source": [
    "## solve it here\n",
    "def function_1(text):\n",
    "    pass\n",
    "\n",
    "def function_2(text):\n",
    "    pass"
   ]
  },
  {
   "cell_type": "markdown",
   "metadata": {},
   "source": [
    "### P4 (*):\n",
    "\n",
    "What does negative numbers do in a slice?"
   ]
  },
  {
   "cell_type": "code",
   "execution_count": null,
   "metadata": {},
   "outputs": [],
   "source": [
    "# what does [-1] do?\n",
    "# for example if I have t = \"my string\"\n",
    "# what will t[-1] do?\n",
    "# and t[-2]? and t[-3] ? etc...\n",
    "# answer below\n",
    "\n",
    "\n",
    "# what does t[1:-3] do?\n",
    "\n",
    "# what does t[-2:] do?\n"
   ]
  },
  {
   "cell_type": "markdown",
   "metadata": {},
   "source": [
    "Use the answers above to create a function that will give you the last two letters of the second last word in a sentence.\n",
    "\n",
    "For example, if I input \"this is a long example sentence\" the function has to output \"le\" (the last to letters of \"example\")"
   ]
  },
  {
   "cell_type": "code",
   "execution_count": null,
   "metadata": {},
   "outputs": [],
   "source": [
    "## solve here\n",
    "def last_two_letters_of_second_last_word(text):\n",
    "    pass"
   ]
  },
  {
   "cell_type": "markdown",
   "metadata": {},
   "source": [
    "## P5 (*) Euclidean division:\n",
    "\n",
    "What is the difference between `/` and `//`? Try it with floats (real numbers with .), integers!"
   ]
  },
  {
   "cell_type": "code",
   "execution_count": null,
   "metadata": {},
   "outputs": [],
   "source": [
    "# try it here\n"
   ]
  },
  {
   "cell_type": "markdown",
   "metadata": {},
   "source": [
    "What does `%` do? What is `10%3` in terms of an euclidean division?"
   ]
  },
  {
   "cell_type": "code",
   "execution_count": 23,
   "metadata": {},
   "outputs": [],
   "source": [
    "# try it here\n"
   ]
  },
  {
   "cell_type": "markdown",
   "metadata": {},
   "source": [
    "Create a function `is_even` that allows you to check if a number is even or odd using `%`. It should return true if the number is even, and false if odd.\n",
    "\n",
    "Create a function called `ceiling_division` that returns the ceiling (an integer) of the division of two numbers, i.e. `ceiling_division(5, 2)` should return `3`. It must use `//`.\n",
    "\n",
    "Create a function called `floor_division` that returns the floor (an integer) of the division of two numbers, i.e. `floor_division(10, 6)` should return `1`. It must use `//`."
   ]
  },
  {
   "cell_type": "code",
   "execution_count": null,
   "metadata": {},
   "outputs": [],
   "source": [
    "def is_even(number):\n",
    "    pass\n",
    "\n",
    "def ceiling_division(a, b):\n",
    "    pass\n",
    "\n",
    "def floor_division(a, b):\n",
    "    pass"
   ]
  },
  {
   "cell_type": "markdown",
   "metadata": {},
   "source": [
    "## Selection Sort (**)\n",
    "\n",
    "We are going to introduce a relatively simple sorting algorithm yet pretty slow one.\n",
    "\n",
    "The algorithm iterates through each element in the list until the Nth - 1 element comparing each of these values with the other values in the list.\n",
    "\n",
    "It keeps track of the index of the list where the smallest number is located.\n",
    "\n",
    "If the index of the smallest index is different from the current element index it will exchange the current i_th element with the smallest number in the remainder in the list."
   ]
  },
  {
   "cell_type": "markdown",
   "metadata": {},
   "source": [
    "#### Example:\n",
    "\n",
    "say we start with `[2, 5, 3, 8]`\n",
    "\n",
    "The algorithm will first compare `2` to the rest of the list: `[5, 3, 8]`\n",
    "\n",
    "`2` is the smallest of these, so the current minimum is located at `index = 0` which is the same as the current element we are comparing.\n",
    "\n",
    "So we leave the list alone without changing it.\n",
    "\n",
    "We move on to the next element: `5`.\n",
    "\n",
    "We compare it to the rest of the list `[3, 8]`. The minimum is located at `index = 2` in the original list.\n",
    "\n",
    "The current minimum is then located at `index = 2` which is not the same as the current index of `1` (the second element)\n",
    "\n",
    "We must then exchange the two elements. So we have at this point `[2, 3, 5, 8]`\n",
    "\n",
    "We move on to the next element in the list (next index -> 2): `5`\n",
    "\n",
    "We compare `5` to the rest of the list `[8, ]`\n",
    "\n",
    "`5` is smaller than `8`, so that's the minimum. The current index is `2`, and the minimum is located at index `2` as well, so we make no change in the original lis.\n",
    "\n",
    "We are done since we have gone through all the elements of the list - 1\n",
    "\n",
    "Thus the sorted list is now `[2, 3, 5, 8]`.\n",
    "\n",
    "##### Summary\n",
    "\n",
    "As you can see we iterate throught the list moving `index` from 0 until the `n - 1` element of the list, where `n` is the length of the list.\n",
    "We compare the element in the `index` to the elements that are between `index + 1` and the `n` element of the list, and find the index of the minimum, let's call it `current_minimum_index`.\n",
    "If the minimum's index is different from the current `index`, i.e. `current_minimum_index != index`, we exchange the value in `index` with the value in `current_minimum_index`.\n",
    "If not we move on to the next `index` without changing tht list.\n"
   ]
  },
  {
   "cell_type": "markdown",
   "metadata": {},
   "source": [
    "### First questions:\n",
    "\n",
    "1. How do you get the length of a list in Python?"
   ]
  },
  {
   "cell_type": "code",
   "execution_count": null,
   "metadata": {},
   "outputs": [],
   "source": []
  },
  {
   "cell_type": "markdown",
   "metadata": {},
   "source": [
    "2. How do you iterate from 0 to N-1 in Python using a `for` loop and `range`?"
   ]
  },
  {
   "cell_type": "code",
   "execution_count": null,
   "metadata": {},
   "outputs": [],
   "source": []
  },
  {
   "cell_type": "markdown",
   "metadata": {},
   "source": [
    "3. How do you iterate from a number i + 1, and n, where i can be any integer between 0 and n, where n is the length of the list?"
   ]
  },
  {
   "cell_type": "code",
   "execution_count": null,
   "metadata": {},
   "outputs": [],
   "source": []
  },
  {
   "cell_type": "markdown",
   "metadata": {},
   "source": [
    "4. How do you exchange two values at different indices in a list? Say the second and final element of a list?"
   ]
  },
  {
   "cell_type": "code",
   "execution_count": null,
   "metadata": {},
   "outputs": [],
   "source": [
    "# try with for example [1, 4, 2, 6]\n",
    "\n",
    "# and create a function:\n",
    "\n",
    "def exchange(i, j, my_list): # this function will exchange the element in i with the element in j in my_list.\n",
    "    pass\n",
    "\n",
    "# remember that when you pass a list to a function you are modifying the ORIGINAL list not a copy. \n",
    "# So any changes to the list inside the function will be available outside of the function.\n",
    "# we say that the list is changed in place."
   ]
  },
  {
   "cell_type": "markdown",
   "metadata": {},
   "source": [
    "### Put it all together"
   ]
  },
  {
   "cell_type": "code",
   "execution_count": null,
   "metadata": {},
   "outputs": [],
   "source": [
    "def exchange(i, j, my_list):\n",
    "    pass\n",
    "\n",
    "def selection_sort(my_list):\n",
    "    pass"
   ]
  },
  {
   "cell_type": "markdown",
   "metadata": {},
   "source": [
    "## Solution. DO NOT LOOK UNTIL YOU'VE TRIED HARD!!!"
   ]
  },
  {
   "cell_type": "code",
   "execution_count": 30,
   "metadata": {},
   "outputs": [
    {
     "name": "stdout",
     "output_type": "stream",
     "text": [
      "The exchange function modifies my_list by exchanging two elements at index i and j:\n",
      "original list: [1, 4, 5, 6, 8]\n",
      "exchanged list: [1, 8, 5, 6, 4]\n"
     ]
    }
   ],
   "source": [
    "## solution!! DO NOT LOOK UNTIL YOU'VE TRIED!!!\n",
    "\n",
    "\n",
    "\n",
    "\n",
    "\n",
    "def exchange(i, j, my_list): # this function will exchange the element in i with the element in j in my_list.\n",
    "    e1 = my_list[i]\n",
    "    e2 = my_list[j]\n",
    "    my_list[i] = e2\n",
    "    my_list[j] = e1\n",
    "    # no need to return since this will modify the original list.\n",
    "\n",
    "# see: [1, 4, 5, 6, 8]\n",
    "test = [1, 4, 5, 6, 8]\n",
    "print(\"The exchange function modifies my_list by exchanging two elements at index i and j:\")\n",
    "original = test.copy()\n",
    "print(f\"original list: {original}\")\n",
    "exchange(1, 4, test)\n",
    "print(f\"exchanged list: {test}\")\n",
    "\n",
    "def selection_sort(l):\n",
    "    # current_minimum_index = 0\n",
    "    for i in range(len(l) - 1):\n",
    "        current_minimum_index = i\n",
    "        for j in range(i + 1, len(l)):\n",
    "            if l[j] < l[current_minimum_index]:\n",
    "                current_minimum_index = j\n",
    "        if current_minimum_index != i:\n",
    "            # we then exchange the two\n",
    "            exchange(i, current_minimum_index, l)\n",
    "    return l\n"
   ]
  },
  {
   "cell_type": "code",
   "execution_count": 28,
   "metadata": {},
   "outputs": [
    {
     "data": {
      "text/plain": [
       "[0, 1, 2, 4, 4, 6, 7, 9]"
      ]
     },
     "execution_count": 28,
     "metadata": {},
     "output_type": "execute_result"
    }
   ],
   "source": [
    "selection_sort([1,6,2,7,9,0,4,4])"
   ]
  },
  {
   "cell_type": "markdown",
   "metadata": {},
   "source": [
    "## Merge Sort (***)\n",
    "\n",
    "We are going to introduce an algorithm used in sorting list (organizing its members in a given order). The algorithm divides the list in sub lists, and sorts them, then compares the different elements to remerge the lists into a single list.\n",
    "\n",
    "This will use the slicing we learned to get the sublists.\n",
    "\n",
    "Let's go into more details of how the algorithm works:"
   ]
  },
  {
   "cell_type": "markdown",
   "metadata": {},
   "source": [
    "1. A list of 1 element is considered sorted.\n",
    "2. if a list has N elements we will then divide the list in half, and sort these using recursion on both of the half lists. Merging the two lists using a merge algorithm.\n",
    "3. To merge the two lists which are SORTED, we will use the following (we are merging l1 and l2), and we will name the function merge():\n",
    "    - if l1 is empty -> l2 is the merged list and we thus return l2.\n",
    "    - if l2 is empty -> l1 is the merged list and we thus return l1.\n",
    "    - if the first element of l1 is smaller or equal than the first element of l2 then the merged list must be:\n",
    "        l1[0] + merge(l1[1:], l2) where the + sign means joining the two lists in a single one (i.e. is [l1[0], the elements of the merge on the right hand side of +]).\n",
    "    - if this is not the case then the merged list must be:\n",
    "        l2[0] + merge(l1, l2[1:]) (same meaning for '+')"
   ]
  },
  {
   "cell_type": "code",
   "execution_count": null,
   "metadata": {},
   "outputs": [],
   "source": [
    "## tips:\n",
    "\n",
    "# what does l1[1:] give you if l1 has only one element? Try it!\n",
    "\n",
    "# what does l1 + l2 do in Python? if l1 and l2 are two lists? Try it!!\n",
    "\n",
    "# what does l[:n] and l[n:] give you if n is an integer between 0 and len(l)? Try it with multiple n's and figure it out.\n",
    "\n",
    "# we will use a recursive algorithm because it's easier to understand the code than an iterative version.\n",
    "\n",
    "# does the order of function in python matter? If I call f1, a function, from f2, another function, does it work if \n",
    "# f1 is written after f2? Try it with a simple function of your choosing.\n",
    "\n",
    "def f1(x):\n",
    "    pass\n",
    "\n",
    "def f2(x):\n",
    "    return f1(x) # does the order above matter? What if I define f2 before f1?\n"
   ]
  },
  {
   "cell_type": "code",
   "execution_count": null,
   "metadata": {},
   "outputs": [],
   "source": [
    "def merge(l1, l2):\n",
    "    \"\"\"\n",
    "    This function will merge two sorted list together using the above recursive method.\n",
    "    Try to implement it yourself! (replace the pass with an actual function which returns the merged list and takes into\n",
    "    the limit cases, i.e. when either l1 or l2 is empty).\n",
    "    \"\"\"\n",
    "    pass\n",
    "def merge_sort(l):\n",
    "    if(len(l) == 1):\n",
    "        return l\n",
    "    n_half = # ??? what to put here to get the half of the orginal list? \n",
    "    # Remember that using a//b will divide and give you the resulting quotient of the euclidean division of a by b, \n",
    "    # i.e. a = b*q + r with q being the quotient and r the remainder (both integers).\n",
    "    # And len(l) will give you the number of elements in the list l.\n",
    "    \n",
    "    l1 = l[:n_half] # slice the array from 0th to n_half_th - 1 element.\n",
    "    l2 = l[n_half:] # slice the array from the n_half elfement to the end.\n",
    "    return merge(merge_sort(l1), merge_sort(l2))\n",
    "    "
   ]
  },
  {
   "cell_type": "code",
   "execution_count": 4,
   "metadata": {},
   "outputs": [],
   "source": [
    "# ## Solution! Do not look unless absolutely stuck. Try to work on it first.\n",
    "def merge(l1, l2):\n",
    "    \"\"\"\n",
    "    This function will merge two sorted list together using the above recursive method.\n",
    "    Try to implement it yourself! (replace the pass with an actual function which returns the merged list and takes into\n",
    "    the limit cases, i.e. when either l1 or l2 is empty).\n",
    "    \"\"\"\n",
    "    if  len(l1) ==  0:\n",
    "        return l2\n",
    "    if len(l2) == 0:\n",
    "        return l1\n",
    "    if l1[0] <= l2[0]:\n",
    "        return [l1[0], ] + merge(l1[1:], l2)\n",
    "    else:\n",
    "        return [l2[0], ] + merge(l1, l2[1:])\n",
    "\n",
    "def merge_sort(l):\n",
    "    if(len(l) == 1):\n",
    "        return l\n",
    "    n_half = len(l)//2 # ??? what to put here to get the half of the orginal list? \n",
    "    # Remember that using a//b will divide and give you the resulting quotient of the euclidean division of a by b, \n",
    "    # i.e. a = b*q + r with q being the quotient and r the remainder (both integers).\n",
    "    # And len(l) will give you the number of elements in the list l.\n",
    "    \n",
    "    l1 = l[:n_half] # slice the array from 0th to n_half_th - 1 element.\n",
    "    l2 = l[n_half:] # slice the array from the n_half elfement to the end.\n",
    "    return merge(merge_sort(l1), merge_sort(l2)) "
   ]
  },
  {
   "cell_type": "code",
   "execution_count": 6,
   "metadata": {},
   "outputs": [
    {
     "data": {
      "text/plain": [
       "[0, 1, 2, 4, 4, 6, 7, 9]"
      ]
     },
     "execution_count": 6,
     "metadata": {},
     "output_type": "execute_result"
    }
   ],
   "source": [
    "l = [1,6,2,7,9,0,4,4]\n",
    "merge_sort(l)"
   ]
  }
 ],
 "metadata": {
  "kernelspec": {
   "display_name": "Python 3.9.7 ('base')",
   "language": "python",
   "name": "python3"
  },
  "language_info": {
   "codemirror_mode": {
    "name": "ipython",
    "version": 3
   },
   "file_extension": ".py",
   "mimetype": "text/x-python",
   "name": "python",
   "nbconvert_exporter": "python",
   "pygments_lexer": "ipython3",
   "version": "3.9.7"
  },
  "orig_nbformat": 4,
  "vscode": {
   "interpreter": {
    "hash": "cf6e3b3694dfcf56de8c82cd7c6d10831c337fb802e3ac6d608eeefba37edc98"
   }
  }
 },
 "nbformat": 4,
 "nbformat_minor": 2
}
