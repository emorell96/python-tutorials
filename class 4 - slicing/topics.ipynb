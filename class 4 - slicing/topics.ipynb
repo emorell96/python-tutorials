{
 "cells": [
  {
   "attachments": {},
   "cell_type": "markdown",
   "metadata": {},
   "source": [
    "# WORK IN PROGRESS. NOT READY.\n",
    "# Slicing\n",
    "\n",
    "This notebook will go over the idea of slicing in Python.\n",
    "\n",
    "Slicing a quick way of getting a part or slice of an array or a string in Python.\n",
    "\n"
   ]
  },
  {
   "attachments": {},
   "cell_type": "markdown",
   "metadata": {},
   "source": [
    "### Simple examples\n",
    "\n",
    "Say you have an array with 5 elements but you only want the 2nd to 4th element in this array. We can use slicing for this."
   ]
  },
  {
   "cell_type": "code",
   "execution_count": 2,
   "metadata": {},
   "outputs": [
    {
     "name": "stdout",
     "output_type": "stream",
     "text": [
      "[6, 8, 10]\n"
     ]
    }
   ],
   "source": [
    "example = [2, 6, 8, 10, 15]\n",
    "\n",
    "sliced_example = example[1:4] # the first element is before the ':' and it's always included in the slice. The final element is after the ':'\n",
    "\n",
    "# the final element is never included in the slice. Remember that in python lists are indexed from 0 and NOT 1. So the first element has index 0,\n",
    "# the second index 1, etc...\n",
    "\n",
    "# so [1:4] means from the second element (1) to the fifth (4) excluding the fifth.\n",
    "\n",
    "print(sliced_example)"
   ]
  },
  {
   "attachments": {},
   "cell_type": "markdown",
   "metadata": {},
   "source": [
    "You can also slice strings. In exactly the same manner."
   ]
  },
  {
   "cell_type": "code",
   "execution_count": 4,
   "metadata": {},
   "outputs": [
    {
     "name": "stdout",
     "output_type": "stream",
     "text": [
      "like\n"
     ]
    }
   ],
   "source": [
    "sentence = \"I like to zip line accross canals.\"\n",
    "\n",
    "print(sentence[2:6]) # I can get the word 'like' out of my sentence."
   ]
  },
  {
   "cell_type": "code",
   "execution_count": 5,
   "metadata": {},
   "outputs": [
    {
     "name": "stdout",
     "output_type": "stream",
     "text": [
      "like to zip line accross canals.\n",
      "like\n"
     ]
    }
   ],
   "source": [
    "# you can also slice multiple times:\n",
    "print(sentence[2:]) # this will slice from the third element. until the end.\n",
    "\n",
    "# so if I want to get the word 'like' of 4 characters I can do:\n",
    "print(sentence[2:][:4]) \n",
    "# where I have first gone from \"I like to zip line accross canals.\" to \"like to zip line accross canals.\" and \n",
    "# finally extracted the first 4 letters.\n",
    "# (remember that :4 means up to the 5th element excluding the fifth, i.e. the first 4 elements of the string.)\n",
    "# doing it this way can sometimes be easier than counting where the word is."
   ]
  },
  {
   "cell_type": "markdown",
   "metadata": {},
   "source": [
    "## Merge Sort\n",
    "\n",
    "We are going to introduce an algorithm used in sorting list (organizing its members in a given order). The algorithm divides the list in sub lists, and sorts them, then compares the different elements to remerge the lists into a single list.\n",
    "\n",
    "This will use the slicing we learned to get the sublists.\n",
    "\n",
    "Let's go into more details of how the algorithm works:"
   ]
  },
  {
   "cell_type": "markdown",
   "metadata": {},
   "source": [
    "1. A list of 1 element is considered sorted.\n",
    "2. if a list has N elements we will then divide the list in half, and sort these using recursion on both of the half lists. Merging the two lists using a merge algorithm.\n",
    "3. To merge the two lists which are SORTED, we will use the following (we are merging l1 and l2), and we will name the function merge():\n",
    "    - if l1 is empty -> l2 is the merged list and we thus return l2.\n",
    "    - if l2 is empty -> l1 is the merged list and we thus return l1.\n",
    "    - if the first element of l1 is smaller or equal than the first element of l2 then the merged list must be:\n",
    "        l1[0] + merge(l1[1:], l2) where the + sign means joining the two lists in a single one (i.e. is [l1[0], the elements of the merge on the right hand side of +]).\n",
    "    - if this is not the case then the merged list must be:\n",
    "        l2[0] + merge(l1, l2[1:]) (same meaning for '+')"
   ]
  },
  {
   "cell_type": "code",
   "execution_count": null,
   "metadata": {},
   "outputs": [],
   "source": [
    "## tips:\n",
    "\n",
    "# what does l1[1:] give you if l1 has only one element? Try it!\n",
    "\n",
    "# what does l1 + l2 do in Python? if l1 and l2 are two lists? Try it!!\n",
    "\n",
    "# what does l[:n] and l[n:] give you if n is an integer between 0 and len(l)? Try it with multiple n's and figure it out.\n",
    "\n",
    "# we will use a recursive algorithm because it's easier to understand the code than an iterative version.\n",
    "\n",
    "# does the order of function in python matter? If I call f1, a function, from f2, another function, does it work if \n",
    "# f1 is written after f2? Try it with a simple function of your choosing.\n",
    "\n",
    "def f1(x):\n",
    "    pass\n",
    "\n",
    "def f2(x):\n",
    "    return f1(x) # does the order above matter? What if I define f2 before f1?\n"
   ]
  },
  {
   "cell_type": "code",
   "execution_count": null,
   "metadata": {},
   "outputs": [],
   "source": [
    "def merge(l1, l2):\n",
    "    \"\"\"\n",
    "    This function will merge two sorted list together using the above recursive method.\n",
    "    Try to implement it yourself! (replace the pass with an actual function which returns the merged list and takes into\n",
    "    the limit cases, i.e. when either l1 or l2 is empty).\n",
    "    \"\"\"\n",
    "    pass\n",
    "def merge_sort(l):\n",
    "    if(len(l) == 1):\n",
    "        return l\n",
    "    n_half = # ??? what to put here to get the half of the orginal list? \n",
    "    # Remember that using a//b will divide and give you the resulting quotient of the euclidean division of a by b, \n",
    "    # i.e. a = b*q + r with q being the quotient and r the remainder (both integers).\n",
    "    # And len(l) will give you the number of elements in the list l.\n",
    "    \n",
    "    l1 = l[:n_half] # slice the array from 0th to n_half_th - 1 element.\n",
    "    l2 = l[n_half:] # slice the array from the n_half elfement to the end.\n",
    "    return merge(merge_sort(l1), merge_sort(l2))\n",
    "    "
   ]
  },
  {
   "cell_type": "code",
   "execution_count": 4,
   "metadata": {},
   "outputs": [],
   "source": [
    "# ## Solution! Do not look unless absolutely stuck. Try to work on it first.\n",
    "def merge(l1, l2):\n",
    "    \"\"\"\n",
    "    This function will merge two sorted list together using the above recursive method.\n",
    "    Try to implement it yourself! (replace the pass with an actual function which returns the merged list and takes into\n",
    "    the limit cases, i.e. when either l1 or l2 is empty).\n",
    "    \"\"\"\n",
    "    if  len(l1) ==  0:\n",
    "        return l2\n",
    "    if len(l2) == 0:\n",
    "        return l1\n",
    "    if l1[0] <= l2[0]:\n",
    "        return [l1[0], ] + merge(l1[1:], l2)\n",
    "    else:\n",
    "        return [l2[0], ] + merge(l1, l2[1:])\n",
    "\n",
    "def merge_sort(l):\n",
    "    if(len(l) == 1):\n",
    "        return l\n",
    "    n_half = len(l)//2 # ??? what to put here to get the half of the orginal list? \n",
    "    # Remember that using a//b will divide and give you the resulting quotient of the euclidean division of a by b, \n",
    "    # i.e. a = b*q + r with q being the quotient and r the remainder (both integers).\n",
    "    # And len(l) will give you the number of elements in the list l.\n",
    "    \n",
    "    l1 = l[:n_half] # slice the array from 0th to n_half_th - 1 element.\n",
    "    l2 = l[n_half:] # slice the array from the n_half elfement to the end.\n",
    "    return merge(merge_sort(l1), merge_sort(l2)) "
   ]
  },
  {
   "cell_type": "code",
   "execution_count": 6,
   "metadata": {},
   "outputs": [
    {
     "data": {
      "text/plain": [
       "[0, 1, 2, 4, 4, 6, 7, 9]"
      ]
     },
     "execution_count": 6,
     "metadata": {},
     "output_type": "execute_result"
    }
   ],
   "source": [
    "l = [1,6,2,7,9,0,4,4]\n",
    "merge_sort(l)"
   ]
  }
 ],
 "metadata": {
  "kernelspec": {
   "display_name": "Python 3.9.7 ('base')",
   "language": "python",
   "name": "python3"
  },
  "language_info": {
   "codemirror_mode": {
    "name": "ipython",
    "version": 3
   },
   "file_extension": ".py",
   "mimetype": "text/x-python",
   "name": "python",
   "nbconvert_exporter": "python",
   "pygments_lexer": "ipython3",
   "version": "3.9.7"
  },
  "orig_nbformat": 4,
  "vscode": {
   "interpreter": {
    "hash": "cf6e3b3694dfcf56de8c82cd7c6d10831c337fb802e3ac6d608eeefba37edc98"
   }
  }
 },
 "nbformat": 4,
 "nbformat_minor": 2
}
