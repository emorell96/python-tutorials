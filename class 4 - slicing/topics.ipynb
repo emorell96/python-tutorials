{
 "cells": [
  {
   "attachments": {},
   "cell_type": "markdown",
   "metadata": {},
   "source": [
    "# WORK IN PROGRESS. NOT READY.\n",
    "# Slicing\n",
    "\n",
    "This notebook will go over the idea of slicing in Python.\n",
    "\n",
    "Slicing a quick way of getting a part or slice of an array or a string in Python.\n",
    "\n"
   ]
  },
  {
   "attachments": {},
   "cell_type": "markdown",
   "metadata": {},
   "source": [
    "### Simple examples\n",
    "\n",
    "Say you have an array with 5 elements but you only want the 2nd to 4th element in this array. We can use slicing for this."
   ]
  },
  {
   "cell_type": "code",
   "execution_count": 2,
   "metadata": {},
   "outputs": [
    {
     "name": "stdout",
     "output_type": "stream",
     "text": [
      "[6, 8, 10]\n"
     ]
    }
   ],
   "source": [
    "example = [2, 6, 8, 10, 15]\n",
    "\n",
    "sliced_example = example[1:4] # the first element is before the ':' and it's always included in the slice. The final element is after the ':'\n",
    "\n",
    "# the final element is never included in the slice. Remember that in python lists are indexed from 0 and NOT 1. So the first element has index 0,\n",
    "# the second index 1, etc...\n",
    "\n",
    "# so [1:4] means from the second element (1) to the fifth (4) excluding the fifth.\n",
    "\n",
    "print(sliced_example)"
   ]
  },
  {
   "attachments": {},
   "cell_type": "markdown",
   "metadata": {},
   "source": [
    "You can also slice strings. In exactly the same manner."
   ]
  },
  {
   "cell_type": "code",
   "execution_count": 4,
   "metadata": {},
   "outputs": [
    {
     "name": "stdout",
     "output_type": "stream",
     "text": [
      "like\n"
     ]
    }
   ],
   "source": [
    "sentence = \"I like to zip line accross canals.\"\n",
    "\n",
    "print(sentence[2:6]) # I can get the word 'like' out of my sentence."
   ]
  },
  {
   "cell_type": "code",
   "execution_count": 5,
   "metadata": {},
   "outputs": [
    {
     "name": "stdout",
     "output_type": "stream",
     "text": [
      "like to zip line accross canals.\n",
      "like\n"
     ]
    }
   ],
   "source": [
    "# you can also slice multiple times:\n",
    "print(sentence[2:]) # this will slice from the third element. until the end.\n",
    "\n",
    "# so if I want to get the word 'like' of 4 characters I can do:\n",
    "print(sentence[2:][:4]) \n",
    "# where I have first gone from \"I like to zip line accross canals.\" to \"like to zip line accross canals.\" and \n",
    "# finally extracted the first 4 letters.\n",
    "# (remember that :4 means up to the 5th element excluding the fifth, i.e. the first 4 elements of the string.)\n",
    "# doing it this way can sometimes be easier than counting where the word is."
   ]
  }
 ],
 "metadata": {
  "kernelspec": {
   "display_name": "base",
   "language": "python",
   "name": "python3"
  },
  "language_info": {
   "codemirror_mode": {
    "name": "ipython",
    "version": 3
   },
   "file_extension": ".py",
   "mimetype": "text/x-python",
   "name": "python",
   "nbconvert_exporter": "python",
   "pygments_lexer": "ipython3",
   "version": "3.9.7"
  },
  "orig_nbformat": 4
 },
 "nbformat": 4,
 "nbformat_minor": 2
}
